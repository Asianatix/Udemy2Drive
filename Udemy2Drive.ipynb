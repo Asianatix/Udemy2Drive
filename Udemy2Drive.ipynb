{
  "nbformat": 4,
  "nbformat_minor": 0,
  "metadata": {
    "colab": {
      "name": "Udemy2Drive.ipynb",
      "provenance": [],
      "toc_visible": true
    },
    "kernelspec": {
      "name": "python3",
      "display_name": "Python 3"
    }
  },
  "cells": [
    {
      "cell_type": "code",
      "metadata": {
        "id": "s_Ye2NZCXORs",
        "colab_type": "code",
        "outputId": "80270aec-6cb1-440a-a2f1-48bd18dcb2f2",
        "colab": {
          "base_uri": "https://localhost:8080/",
          "height": 34
        }
      },
      "source": [
        "from google.colab import drive\n",
        "drive.mount('/content/drive')"
      ],
      "execution_count": 45,
      "outputs": [
        {
          "output_type": "stream",
          "text": [
            "Drive already mounted at /content/drive; to attempt to forcibly remount, call drive.mount(\"/content/drive\", force_remount=True).\n"
          ],
          "name": "stdout"
        }
      ]
    },
    {
      "cell_type": "code",
      "metadata": {
        "id": "6RGIxufZZCQA",
        "colab_type": "code",
        "outputId": "7202c0bc-06b6-4733-8af0-ec1dbab809a1",
        "colab": {
          "base_uri": "https://localhost:8080/",
          "height": 136
        }
      },
      "source": [
        "!git clone \"https://github.com/r0oth3x49/udemy-dl.git\" \"/content/udemy_dl\""
      ],
      "execution_count": 0,
      "outputs": [
        {
          "output_type": "stream",
          "text": [
            "Cloning into '/content/udemy_dl'...\n",
            "remote: Enumerating objects: 49, done.\u001b[K\n",
            "remote: Counting objects:   2% (1/49)\u001b[K\rremote: Counting objects:   4% (2/49)\u001b[K\rremote: Counting objects:   6% (3/49)\u001b[K\rremote: Counting objects:   8% (4/49)\u001b[K\rremote: Counting objects:  10% (5/49)\u001b[K\rremote: Counting objects:  12% (6/49)\u001b[K\rremote: Counting objects:  14% (7/49)\u001b[K\rremote: Counting objects:  16% (8/49)\u001b[K\rremote: Counting objects:  18% (9/49)\u001b[K\rremote: Counting objects:  20% (10/49)\u001b[K\rremote: Counting objects:  22% (11/49)\u001b[K\rremote: Counting objects:  24% (12/49)\u001b[K\rremote: Counting objects:  26% (13/49)\u001b[K\rremote: Counting objects:  28% (14/49)\u001b[K\rremote: Counting objects:  30% (15/49)\u001b[K\rremote: Counting objects:  32% (16/49)\u001b[K\rremote: Counting objects:  34% (17/49)\u001b[K\rremote: Counting objects:  36% (18/49)\u001b[K\rremote: Counting objects:  38% (19/49)\u001b[K\rremote: Counting objects:  40% (20/49)\u001b[K\rremote: Counting objects:  42% (21/49)\u001b[K\rremote: Counting objects:  44% (22/49)\u001b[K\rremote: Counting objects:  46% (23/49)\u001b[K\rremote: Counting objects:  48% (24/49)\u001b[K\rremote: Counting objects:  51% (25/49)\u001b[K\rremote: Counting objects:  53% (26/49)\u001b[K\rremote: Counting objects:  55% (27/49)\u001b[K\rremote: Counting objects:  57% (28/49)\u001b[K\rremote: Counting objects:  59% (29/49)\u001b[K\rremote: Counting objects:  61% (30/49)\u001b[K\rremote: Counting objects:  63% (31/49)\u001b[K\rremote: Counting objects:  65% (32/49)\u001b[K\rremote: Counting objects:  67% (33/49)\u001b[K\rremote: Counting objects:  69% (34/49)\u001b[K\rremote: Counting objects:  71% (35/49)\u001b[K\rremote: Counting objects:  73% (36/49)\u001b[K\rremote: Counting objects:  75% (37/49)\u001b[K\rremote: Counting objects:  77% (38/49)\u001b[K\rremote: Counting objects:  79% (39/49)\u001b[K\rremote: Counting objects:  81% (40/49)\u001b[K\rremote: Counting objects:  83% (41/49)\u001b[K\rremote: Counting objects:  85% (42/49)\u001b[K\rremote: Counting objects:  87% (43/49)\u001b[K\rremote: Counting objects:  89% (44/49)\u001b[K\rremote: Counting objects:  91% (45/49)\u001b[K\rremote: Counting objects:  93% (46/49)\u001b[K\rremote: Counting objects:  95% (47/49)\u001b[K\rremote: Counting objects:  97% (48/49)\u001b[K\rremote: Counting objects: 100% (49/49)\u001b[K\rremote: Counting objects: 100% (49/49), done.\u001b[K\n",
            "remote: Compressing objects:   2% (1/37)\u001b[K\rremote: Compressing objects:   5% (2/37)\u001b[K\rremote: Compressing objects:   8% (3/37)\u001b[K\rremote: Compressing objects:  10% (4/37)\u001b[K\rremote: Compressing objects:  13% (5/37)\u001b[K\rremote: Compressing objects:  16% (6/37)\u001b[K\rremote: Compressing objects:  18% (7/37)\u001b[K\rremote: Compressing objects:  21% (8/37)\u001b[K\rremote: Compressing objects:  24% (9/37)\u001b[K\rremote: Compressing objects:  27% (10/37)\u001b[K\rremote: Compressing objects:  29% (11/37)\u001b[K\rremote: Compressing objects:  32% (12/37)\u001b[K\rremote: Compressing objects:  35% (13/37)\u001b[K\rremote: Compressing objects:  37% (14/37)\u001b[K\rremote: Compressing objects:  40% (15/37)\u001b[K\rremote: Compressing objects:  43% (16/37)\u001b[K\rremote: Compressing objects:  45% (17/37)\u001b[K\rremote: Compressing objects:  48% (18/37)\u001b[K\rremote: Compressing objects:  51% (19/37)\u001b[K\rremote: Compressing objects:  54% (20/37)\u001b[K\rremote: Compressing objects:  56% (21/37)\u001b[K\rremote: Compressing objects:  59% (22/37)\u001b[K\rremote: Compressing objects:  62% (23/37)\u001b[K\rremote: Compressing objects:  64% (24/37)\u001b[K\rremote: Compressing objects:  67% (25/37)\u001b[K\rremote: Compressing objects:  70% (26/37)\u001b[K\rremote: Compressing objects:  72% (27/37)\u001b[K\rremote: Compressing objects:  75% (28/37)\u001b[K\rremote: Compressing objects:  78% (29/37)\u001b[K\rremote: Compressing objects:  81% (30/37)\u001b[K\rremote: Compressing objects:  83% (31/37)\u001b[K\rremote: Compressing objects:  86% (32/37)\u001b[K\rremote: Compressing objects:  89% (33/37)\u001b[K\rremote: Compressing objects:  91% (34/37)\u001b[K\rremote: Compressing objects:  94% (35/37)\u001b[K\rremote: Compressing objects:  97% (36/37)\u001b[K\rremote: Compressing objects: 100% (37/37)\u001b[K\rremote: Compressing objects: 100% (37/37), done.\u001b[K\n",
            "Receiving objects:   0% (1/673)   \rReceiving objects:   1% (7/673)   \rReceiving objects:   2% (14/673)   \rReceiving objects:   3% (21/673)   \rReceiving objects:   4% (27/673)   \rReceiving objects:   5% (34/673)   \rReceiving objects:   6% (41/673)   \rReceiving objects:   7% (48/673)   \rReceiving objects:   8% (54/673)   \rReceiving objects:   9% (61/673)   \rReceiving objects:  10% (68/673)   \rReceiving objects:  11% (75/673)   \rReceiving objects:  12% (81/673)   \rReceiving objects:  13% (88/673)   \rReceiving objects:  14% (95/673)   \rReceiving objects:  15% (101/673)   \rReceiving objects:  16% (108/673)   \rReceiving objects:  17% (115/673)   \rReceiving objects:  18% (122/673)   \rReceiving objects:  19% (128/673)   \rReceiving objects:  20% (135/673)   \rReceiving objects:  21% (142/673)   \rReceiving objects:  22% (149/673)   \rReceiving objects:  23% (155/673)   \rReceiving objects:  24% (162/673)   \rReceiving objects:  25% (169/673)   \rReceiving objects:  26% (175/673)   \rReceiving objects:  27% (182/673)   \rReceiving objects:  28% (189/673)   \rReceiving objects:  29% (196/673)   \rReceiving objects:  30% (202/673)   \rReceiving objects:  31% (209/673)   \rReceiving objects:  32% (216/673)   \rReceiving objects:  33% (223/673)   \rReceiving objects:  34% (229/673)   \rReceiving objects:  35% (236/673)   \rReceiving objects:  36% (243/673)   \rReceiving objects:  37% (250/673)   \rReceiving objects:  38% (256/673)   \rReceiving objects:  39% (263/673)   \rReceiving objects:  40% (270/673)   \rReceiving objects:  41% (276/673)   \rReceiving objects:  42% (283/673)   \rReceiving objects:  43% (290/673)   \rReceiving objects:  44% (297/673)   \rReceiving objects:  45% (303/673)   \rReceiving objects:  46% (310/673)   \rReceiving objects:  47% (317/673)   \rReceiving objects:  48% (324/673)   \rReceiving objects:  49% (330/673)   \rReceiving objects:  50% (337/673)   \rReceiving objects:  51% (344/673)   \rReceiving objects:  52% (350/673)   \rReceiving objects:  53% (357/673)   \rReceiving objects:  54% (364/673)   \rReceiving objects:  55% (371/673)   \rReceiving objects:  56% (377/673)   \rReceiving objects:  57% (384/673)   \rReceiving objects:  58% (391/673)   \rReceiving objects:  59% (398/673)   \rReceiving objects:  60% (404/673)   \rReceiving objects:  61% (411/673)   \rReceiving objects:  62% (418/673)   \rReceiving objects:  63% (424/673)   \rReceiving objects:  64% (431/673)   \rReceiving objects:  65% (438/673)   \rReceiving objects:  66% (445/673)   \rReceiving objects:  67% (451/673)   \rReceiving objects:  68% (458/673)   \rReceiving objects:  69% (465/673)   \rReceiving objects:  70% (472/673)   \rReceiving objects:  71% (478/673)   \rReceiving objects:  72% (485/673)   \rReceiving objects:  73% (492/673)   \rReceiving objects:  74% (499/673)   \rReceiving objects:  75% (505/673)   \rReceiving objects:  76% (512/673)   \rReceiving objects:  77% (519/673)   \rReceiving objects:  78% (525/673)   \rReceiving objects:  79% (532/673)   \rReceiving objects:  80% (539/673)   \rReceiving objects:  81% (546/673)   \rReceiving objects:  82% (552/673)   \rReceiving objects:  83% (559/673)   \rReceiving objects:  84% (566/673)   \rReceiving objects:  85% (573/673)   \rremote: Total 673 (delta 27), reused 28 (delta 12), pack-reused 624\u001b[K\n",
            "Receiving objects:  86% (579/673)   \rReceiving objects:  87% (586/673)   \rReceiving objects:  88% (593/673)   \rReceiving objects:  89% (599/673)   \rReceiving objects:  90% (606/673)   \rReceiving objects:  91% (613/673)   \rReceiving objects:  92% (620/673)   \rReceiving objects:  93% (626/673)   \rReceiving objects:  94% (633/673)   \rReceiving objects:  95% (640/673)   \rReceiving objects:  96% (647/673)   \rReceiving objects:  97% (653/673)   \rReceiving objects:  98% (660/673)   \rReceiving objects:  99% (667/673)   \rReceiving objects: 100% (673/673)   \rReceiving objects: 100% (673/673), 244.36 KiB | 9.40 MiB/s, done.\n",
            "Resolving deltas:   0% (0/421)   \rResolving deltas:   1% (6/421)   \rResolving deltas:   5% (23/421)   \rResolving deltas:   8% (35/421)   \rResolving deltas:  11% (49/421)   \rResolving deltas:  18% (78/421)   \rResolving deltas:  20% (86/421)   \rResolving deltas:  31% (131/421)   \rResolving deltas:  42% (180/421)   \rResolving deltas:  44% (187/421)   \rResolving deltas:  45% (190/421)   \rResolving deltas:  46% (194/421)   \rResolving deltas:  48% (205/421)   \rResolving deltas:  49% (209/421)   \rResolving deltas:  50% (211/421)   \rResolving deltas:  51% (218/421)   \rResolving deltas:  52% (223/421)   \rResolving deltas:  54% (230/421)   \rResolving deltas:  57% (240/421)   \rResolving deltas:  58% (248/421)   \rResolving deltas:  61% (257/421)   \rResolving deltas:  62% (265/421)   \rResolving deltas:  64% (270/421)   \rResolving deltas:  65% (277/421)   \rResolving deltas:  67% (284/421)   \rResolving deltas:  69% (293/421)   \rResolving deltas:  70% (295/421)   \rResolving deltas:  71% (299/421)   \rResolving deltas:  72% (304/421)   \rResolving deltas:  74% (312/421)   \rResolving deltas:  76% (322/421)   \rResolving deltas:  77% (325/421)   \rResolving deltas:  79% (335/421)   \rResolving deltas:  80% (337/421)   \rResolving deltas:  82% (347/421)   \rResolving deltas:  85% (362/421)   \rResolving deltas:  86% (364/421)   \rResolving deltas:  87% (368/421)   \rResolving deltas:  90% (380/421)   \rResolving deltas:  91% (385/421)   \rResolving deltas:  92% (388/421)   \rResolving deltas:  94% (399/421)   \rResolving deltas:  96% (405/421)   \rResolving deltas:  98% (414/421)   \rResolving deltas:  99% (419/421)   \rResolving deltas: 100% (421/421)   \rResolving deltas: 100% (421/421), done.\n"
          ],
          "name": "stdout"
        }
      ]
    },
    {
      "cell_type": "code",
      "metadata": {
        "id": "jg7_4yVAXaSk",
        "colab_type": "code",
        "colab": {}
      },
      "source": [
        "!pip install -r \"/content/udemy_dl/requirements.txt\""
      ],
      "execution_count": 0,
      "outputs": []
    },
    {
      "cell_type": "markdown",
      "metadata": {
        "id": "Kgy_3paFav15",
        "colab_type": "text"
      },
      "source": [
        "#Course URL"
      ]
    },
    {
      "cell_type": "code",
      "metadata": {
        "id": "jHDkulfbZxsq",
        "colab_type": "code",
        "outputId": "38507874-44bd-4178-e79d-183d7a512e39",
        "colab": {
          "base_uri": "https://localhost:8080/",
          "height": 34
        }
      },
      "source": [
        "course_url = str(input(\"Enter the course url: \"))"
      ],
      "execution_count": 0,
      "outputs": [
        {
          "output_type": "stream",
          "text": [
            "Enter the course url: https://gale.udemy.com/course/lightning-web-component-development/learn/lecture/15161326#overview\n"
          ],
          "name": "stdout"
        }
      ]
    },
    {
      "cell_type": "markdown",
      "metadata": {
        "id": "MZLcl7Vnazao",
        "colab_type": "text"
      },
      "source": [
        "#Output Path"
      ]
    },
    {
      "cell_type": "code",
      "metadata": {
        "id": "zytgvtwxa1tV",
        "colab_type": "code",
        "outputId": "e5157c93-68b7-422f-ae3a-f8b5ec27d8eb",
        "colab": {
          "base_uri": "https://localhost:8080/",
          "height": 34
        }
      },
      "source": [
        "out_path = str(input(\"output Path: \"))"
      ],
      "execution_count": 46,
      "outputs": [
        {
          "output_type": "stream",
          "text": [
            "output Path: /content/drive/Shared drives/TeamDrive/Udemy\n"
          ],
          "name": "stdout"
        }
      ]
    },
    {
      "cell_type": "markdown",
      "metadata": {
        "id": "ygNH4alHeEFB",
        "colab_type": "text"
      },
      "source": [
        "#Enter Acess Token"
      ]
    },
    {
      "cell_type": "code",
      "metadata": {
        "id": "bjLk0ly6doaU",
        "colab_type": "code",
        "outputId": "52896f81-0b6e-4972-880a-89b578d69273",
        "colab": {
          "base_uri": "https://localhost:8080/",
          "height": 34
        }
      },
      "source": [
        "token = str(input(\"Token: \"))\n",
        "file_con = \"access_token=\" + token\n",
        "with open(\"/content/udemy_dl/udemy/token.txt\", \"w\") as f:\n",
        "  f.write(file_con)"
      ],
      "execution_count": 0,
      "outputs": [
        {
          "output_type": "stream",
          "text": [
            "Token: HgG8mnRMuLMmbFRlOqlGegy4gXaYDUuHFfluDlHA\n"
          ],
          "name": "stdout"
        }
      ]
    },
    {
      "cell_type": "markdown",
      "metadata": {
        "id": "hWLPDcJAaYD8",
        "colab_type": "text"
      },
      "source": [
        "#Download"
      ]
    },
    {
      "cell_type": "code",
      "metadata": {
        "id": "xJHSDPYAXwYr",
        "colab_type": "code",
        "outputId": "432287d1-1df8-4871-f878-fbc2201ff0e4",
        "colab": {
          "base_uri": "https://localhost:8080/",
          "height": 1000
        }
      },
      "source": [
        "!python \"/content/udemy_dl/udemy-dl.py\" \"{course_url}\" -k \"token.txt\" -o \"{out_path}\""
      ],
      "execution_count": 0,
      "outputs": [
        {
          "output_type": "stream",
          "text": [
            "\n",
            "\u001b[36m\u001b[1m              __                               ____  \n",
            "\u001b[36m\u001b[1m   __  ______/ /__  ____ ___  __  __      ____/ / /  \n",
            "\u001b[36m\u001b[1m  / / / / __  / _ \\/ __ `__ \\/ / / /_____/ __  / /   \n",
            "\u001b[35m\u001b[1m / /_/ / /_/ /  __/ / / / / / /_/ /_____/ /_/ / /    \n",
            "\u001b[33m\u001b[1m \\__,_/\\__,_/\\___/_/ /_/ /_/\\__, /      \\__,_/_/     \n",
            "\u001b[33m\u001b[1m                           /____/\n",
            "                                 \u001b[33m\u001b[2mVersion : \u001b[32m\u001b[2m0.5\n",
            "                                 \u001b[33m\u001b[2mAuthor  : \u001b[32m\u001b[2mNasir Khan (r0ot h3x49)\n",
            "                                 \u001b[33m\u001b[2mGithub  : \u001b[32m\u001b[2mhttps://github.com/r0oth3x49\n",
            "\n",
            "\u001b[0m\u001b[36m\u001b[2m[\u001b[35m\u001b[1m*\u001b[36m\u001b[2m] : \u001b[32m\u001b[1mTrying to login using cookies ...\n",
            "\u001b[0m\u001b[36m\u001b[2m[\u001b[35m\u001b[1m+\u001b[36m\u001b[2m] : \u001b[32m\u001b[1mLogged in successfully.\n",
            "\u001b[36m\u001b[2m[\u001b[35m\u001b[1m*\u001b[36m\u001b[2m] : \u001b[32m\u001b[1mDownloaded course information .. (done)\n",
            "\u001b[0m\u001b[36m\u001b[2m[\u001b[35m\u001b[1m*\u001b[36m\u001b[2m] : \u001b[32m\u001b[1mTrying to logout now...\n",
            "\u001b[0m\u001b[36m\u001b[2m[\u001b[35m\u001b[1m+\u001b[36m\u001b[2m] : \u001b[32m\u001b[1mLogged out successfully.\n",
            "\u001b[0m\u001b[36m\u001b[2m[\u001b[35m\u001b[1m*\u001b[36m\u001b[2m] : \u001b[32m\u001b[1mCourse \u001b[34m\u001b[1m'lightning-web-component-development'.\n",
            "\u001b[0m\u001b[36m\u001b[2m[\u001b[35m\u001b[1m+\u001b[36m\u001b[2m] : \u001b[32m\u001b[2mChapter(s) (12).\n",
            "\u001b[0m\u001b[36m\u001b[2m[\u001b[35m\u001b[1m*\u001b[36m\u001b[2m] : \u001b[32m\u001b[2mLecture(s) (66).\n",
            "\u001b[0m\u001b[36m\u001b[2m\n",
            "[\u001b[35m\u001b[1m*\u001b[36m\u001b[2m] : \u001b[35m\u001b[1mDownloading chapter : (1 of 12)\n",
            "\u001b[0m\u001b[36m\u001b[2m[\u001b[37m\u001b[1m+\u001b[36m\u001b[2m] : \u001b[37m\u001b[2mChapter (01 Introduction And Getting Started)\n",
            "\u001b[0m\u001b[36m\u001b[2m[\u001b[35m\u001b[1m*\u001b[36m\u001b[2m] : \u001b[32m\u001b[2mFound (8) lectures ...\n",
            "\u001b[0m\u001b[36m\u001b[2m\n",
            "[\u001b[35m\u001b[1m*\u001b[36m\u001b[2m] : \u001b[32m\u001b[2mLecture(s) : (1 of 8)\n",
            "\u001b[0m\u001b[36m\u001b[2m[\u001b[35m\u001b[1m*\u001b[36m\u001b[2m] : \u001b[32m\u001b[2mDownloading (001 Course Overview)\n",
            "\u001b[36m\u001b[2m[\u001b[35m\u001b[1m*\u001b[36m\u001b[2m] : \u001b[32m\u001b[1m4.70MB/4.70MB 100.00% |\u001b[36m\u001b[2m##############################\u001b[37m\u001b[2m\u001b[32m\u001b[1m| 14.05MB/s \n",
            "\u001b[0m\u001b[36m\u001b[2m[\u001b[35m\u001b[1m+\u001b[36m\u001b[2m] : \u001b[32m\u001b[2mDownloaded  (001 Course Overview)\n",
            "\u001b[0m\u001b[36m\u001b[2m\n",
            "[\u001b[35m\u001b[1m*\u001b[36m\u001b[2m] : \u001b[32m\u001b[2mLecture(s) : (2 of 8)\n",
            "\u001b[0m\u001b[36m\u001b[2m[\u001b[35m\u001b[1m*\u001b[36m\u001b[2m] : \u001b[32m\u001b[2mDownloading (002 About Your Author)\n",
            "\u001b[36m\u001b[2m[\u001b[35m\u001b[1m*\u001b[36m\u001b[2m] : \u001b[32m\u001b[1m14.28MB/14.28MB 100.00% |\u001b[36m\u001b[2m##############################\u001b[37m\u001b[2m\u001b[32m\u001b[1m| 17.50MB/s \n",
            "\u001b[0m\u001b[36m\u001b[2m[\u001b[35m\u001b[1m+\u001b[36m\u001b[2m] : \u001b[32m\u001b[2mDownloaded  (002 About Your Author)\n",
            "\u001b[0m\u001b[36m\u001b[2m\n",
            "[\u001b[35m\u001b[1m*\u001b[36m\u001b[2m] : \u001b[32m\u001b[2mLecture(s) : (3 of 8)\n",
            "\u001b[0m\u001b[36m\u001b[2m[\u001b[35m\u001b[1m*\u001b[36m\u001b[2m] : \u001b[32m\u001b[2mDownloading (003 Introduction to LWC)\n",
            "\u001b[36m\u001b[2m[\u001b[35m\u001b[1m*\u001b[36m\u001b[2m] : \u001b[32m\u001b[1m59.51MB/59.51MB 100.00% |\u001b[36m\u001b[2m##############################\u001b[37m\u001b[2m\u001b[32m\u001b[1m| 18.27MB/s \n",
            "\u001b[0m\u001b[36m\u001b[2m[\u001b[35m\u001b[1m+\u001b[36m\u001b[2m] : \u001b[32m\u001b[2mDownloaded  (003 Introduction to LWC)\n",
            "\u001b[0m\u001b[36m\u001b[2m\n",
            "[\u001b[35m\u001b[1m*\u001b[36m\u001b[2m] : \u001b[32m\u001b[2mLecture(s) : (5 of 8)\n",
            "\u001b[0m\u001b[36m\u001b[2m[\u001b[35m\u001b[1m*\u001b[36m\u001b[2m] : \u001b[32m\u001b[2mDownloading (005 Set Up Development Environment)\n",
            "\u001b[36m\u001b[2m[\u001b[35m\u001b[1m*\u001b[36m\u001b[2m] : \u001b[32m\u001b[1m43.46MB/43.46MB 100.00% |\u001b[36m\u001b[2m##############################\u001b[37m\u001b[2m\u001b[32m\u001b[1m| 17.88MB/s \n",
            "\u001b[0m\u001b[36m\u001b[2m[\u001b[35m\u001b[1m+\u001b[36m\u001b[2m] : \u001b[32m\u001b[2mDownloaded  (005 Set Up Development Environment)\n",
            "\u001b[0m\u001b[36m\u001b[2m\n",
            "[\u001b[35m\u001b[1m*\u001b[36m\u001b[2m] : \u001b[32m\u001b[2mLecture(s) : (6 of 8)\n",
            "\u001b[0m\u001b[36m\u001b[2m[\u001b[35m\u001b[1m*\u001b[36m\u001b[2m] : \u001b[32m\u001b[2mDownloading (006 Create Developer Org and Setup Dev Hub)\n",
            "\u001b[36m\u001b[2m[\u001b[35m\u001b[1m*\u001b[36m\u001b[2m] : \u001b[32m\u001b[1m34.30MB/34.30MB 100.00% |\u001b[36m\u001b[2m##############################\u001b[37m\u001b[2m\u001b[32m\u001b[1m| 17.74MB/s \n",
            "\u001b[0m\u001b[36m\u001b[2m[\u001b[35m\u001b[1m+\u001b[36m\u001b[2m] : \u001b[32m\u001b[2mDownloaded  (006 Create Developer Org and Setup Dev Hub)\n",
            "\u001b[0m\u001b[36m\u001b[2m\n",
            "[\u001b[35m\u001b[1m*\u001b[36m\u001b[2m] : \u001b[32m\u001b[2mLecture(s) : (7 of 8)\n",
            "\u001b[0m\u001b[36m\u001b[2m[\u001b[35m\u001b[1m*\u001b[36m\u001b[2m] : \u001b[32m\u001b[2mDownloading (007 Create Scratch Org)\n",
            "\u001b[36m\u001b[2m[\u001b[35m\u001b[1m*\u001b[36m\u001b[2m] : \u001b[32m\u001b[1m38.68MB/38.68MB 100.00% |\u001b[36m\u001b[2m##############################\u001b[37m\u001b[2m\u001b[32m\u001b[1m| 18.07MB/s \n",
            "\u001b[0m\u001b[36m\u001b[2m[\u001b[35m\u001b[1m+\u001b[36m\u001b[2m] : \u001b[32m\u001b[2mDownloaded  (007 Create Scratch Org)\n",
            "\u001b[0m\u001b[36m\u001b[2m\n",
            "[\u001b[35m\u001b[1m*\u001b[36m\u001b[2m] : \u001b[32m\u001b[2mLecture(s) : (8 of 8)\n",
            "\u001b[0m\u001b[36m\u001b[2m[\u001b[35m\u001b[1m*\u001b[36m\u001b[2m] : \u001b[32m\u001b[2mDownloading (008 Explore Salesforce CLI Commands)\n",
            "\u001b[36m\u001b[2m[\u001b[35m\u001b[1m*\u001b[36m\u001b[2m] : \u001b[32m\u001b[1m86.89MB/86.89MB 100.00% |\u001b[36m\u001b[2m##############################\u001b[37m\u001b[2m\u001b[32m\u001b[1m| 18.08MB/s \n",
            "\u001b[0m\u001b[36m\u001b[2m[\u001b[35m\u001b[1m+\u001b[36m\u001b[2m] : \u001b[32m\u001b[2mDownloaded  (008 Explore Salesforce CLI Commands)\n",
            "\u001b[0m\u001b[36m\u001b[2m\n",
            "[\u001b[35m\u001b[1m*\u001b[36m\u001b[2m] : \u001b[35m\u001b[1mDownloading chapter : (2 of 12)\n",
            "\u001b[0m\u001b[36m\u001b[2m[\u001b[37m\u001b[1m+\u001b[36m\u001b[2m] : \u001b[37m\u001b[2mChapter (02 LWC Fundamentals)\n",
            "\u001b[0m\u001b[36m\u001b[2m[\u001b[35m\u001b[1m*\u001b[36m\u001b[2m] : \u001b[32m\u001b[2mFound (10) lectures ...\n",
            "\u001b[0m\u001b[36m\u001b[2m\n",
            "[\u001b[35m\u001b[1m*\u001b[36m\u001b[2m] : \u001b[32m\u001b[2mLecture(s) : (2 of 10)\n",
            "\u001b[0m\u001b[36m\u001b[2m[\u001b[35m\u001b[1m*\u001b[36m\u001b[2m] : \u001b[32m\u001b[2mDownloading (010 Component Bundle)\n",
            "\u001b[36m\u001b[2m[\u001b[35m\u001b[1m*\u001b[36m\u001b[2m] : \u001b[32m\u001b[1m48.74MB/48.74MB 100.00% |\u001b[36m\u001b[2m##############################\u001b[37m\u001b[2m\u001b[32m\u001b[1m| 18.39MB/s \n",
            "\u001b[0m\u001b[36m\u001b[2m[\u001b[35m\u001b[1m+\u001b[36m\u001b[2m] : \u001b[32m\u001b[2mDownloaded  (010 Component Bundle)\n",
            "\u001b[0m\u001b[36m\u001b[2m\n",
            "[\u001b[35m\u001b[1m*\u001b[36m\u001b[2m] : \u001b[32m\u001b[2mLecture(s) : (3 of 10)\n",
            "\u001b[0m\u001b[36m\u001b[2m[\u001b[35m\u001b[1m*\u001b[36m\u001b[2m] : \u001b[32m\u001b[2mDownloading (011 Hello World Component)\n",
            "\u001b[36m\u001b[2m[\u001b[35m\u001b[1m*\u001b[36m\u001b[2m] : \u001b[32m\u001b[1m54.48MB/54.48MB 100.00% |\u001b[36m\u001b[2m##############################\u001b[37m\u001b[2m\u001b[32m\u001b[1m| 17.91MB/s \n",
            "\u001b[0m\u001b[36m\u001b[2m[\u001b[35m\u001b[1m+\u001b[36m\u001b[2m] : \u001b[32m\u001b[2mDownloaded  (011 Hello World Component)\n",
            "\u001b[0m\u001b[36m\u001b[2m\n",
            "[\u001b[35m\u001b[1m*\u001b[36m\u001b[2m] : \u001b[32m\u001b[2mDownloading asset(s)\n",
            "\u001b[0m\u001b[36m\u001b[2m[\u001b[35m\u001b[1m*\u001b[36m\u001b[2m] : \u001b[32m\u001b[2mDownloading (011 Code.zip)\n",
            "\u001b[36m\u001b[2m[\u001b[35m\u001b[1m*\u001b[36m\u001b[2m] : \u001b[32m\u001b[1m3.42KB/3.42KB 100.00% |\u001b[36m\u001b[2m##############################\u001b[37m\u001b[2m\u001b[32m\u001b[1m| 8.09kB/s \n",
            "\u001b[0m\u001b[36m\u001b[2m[\u001b[35m\u001b[1m+\u001b[36m\u001b[2m] : \u001b[32m\u001b[2mDownloaded  (011 Code.zip)\n",
            "\u001b[0m\u001b[36m\u001b[2m\n",
            "[\u001b[35m\u001b[1m*\u001b[36m\u001b[2m] : \u001b[32m\u001b[2mLecture(s) : (4 of 10)\n",
            "\u001b[0m\u001b[36m\u001b[2m[\u001b[35m\u001b[1m*\u001b[36m\u001b[2m] : \u001b[32m\u001b[2mDownloading (012 Data Binding)\n",
            "\u001b[36m\u001b[2m[\u001b[35m\u001b[1m*\u001b[36m\u001b[2m] : \u001b[32m\u001b[1m51.59MB/51.59MB 100.00% |\u001b[36m\u001b[2m##############################\u001b[37m\u001b[2m\u001b[32m\u001b[1m| 17.60MB/s \n",
            "\u001b[0m\u001b[36m\u001b[2m[\u001b[35m\u001b[1m+\u001b[36m\u001b[2m] : \u001b[32m\u001b[2mDownloaded  (012 Data Binding)\n",
            "\u001b[0m\u001b[36m\u001b[2m\n",
            "[\u001b[35m\u001b[1m*\u001b[36m\u001b[2m] : \u001b[32m\u001b[2mDownloading asset(s)\n",
            "\u001b[0m\u001b[36m\u001b[2m[\u001b[35m\u001b[1m*\u001b[36m\u001b[2m] : \u001b[32m\u001b[2mDownloading (012 code.zip)\n",
            "\u001b[36m\u001b[2m[\u001b[35m\u001b[1m*\u001b[36m\u001b[2m] : \u001b[32m\u001b[1m2.25KB/2.25KB 100.00% |\u001b[36m\u001b[2m##############################\u001b[37m\u001b[2m\u001b[32m\u001b[1m| 13.79kB/s \n",
            "\u001b[0m\u001b[36m\u001b[2m[\u001b[35m\u001b[1m+\u001b[36m\u001b[2m] : \u001b[32m\u001b[2mDownloaded  (012 code.zip)\n",
            "\u001b[0m\u001b[36m\u001b[2m\n",
            "[\u001b[35m\u001b[1m*\u001b[36m\u001b[2m] : \u001b[32m\u001b[2mLecture(s) : (5 of 10)\n",
            "\u001b[0m\u001b[36m\u001b[2m[\u001b[35m\u001b[1m*\u001b[36m\u001b[2m] : \u001b[32m\u001b[2mDownloading (013 Applying CSS)\n",
            "\u001b[36m\u001b[2m[\u001b[35m\u001b[1m*\u001b[36m\u001b[2m] : \u001b[32m\u001b[1m50.39MB/50.39MB 100.00% |\u001b[36m\u001b[2m##############################\u001b[37m\u001b[2m\u001b[32m\u001b[1m| 18.13MB/s \n",
            "\u001b[0m\u001b[36m\u001b[2m[\u001b[35m\u001b[1m+\u001b[36m\u001b[2m] : \u001b[32m\u001b[2mDownloaded  (013 Applying CSS)\n",
            "\u001b[0m\u001b[36m\u001b[2m\n",
            "[\u001b[35m\u001b[1m*\u001b[36m\u001b[2m] : \u001b[32m\u001b[2mDownloading asset(s)\n",
            "\u001b[0m\u001b[36m\u001b[2m[\u001b[35m\u001b[1m*\u001b[36m\u001b[2m] : \u001b[32m\u001b[2mDownloading (013 code.zip)\n",
            "\u001b[36m\u001b[2m[\u001b[35m\u001b[1m*\u001b[36m\u001b[2m] : \u001b[32m\u001b[1m2.01KB/2.01KB 100.00% |\u001b[36m\u001b[2m##############################\u001b[37m\u001b[2m\u001b[32m\u001b[1m| 11.14kB/s \n",
            "\u001b[0m\u001b[36m\u001b[2m[\u001b[35m\u001b[1m+\u001b[36m\u001b[2m] : \u001b[32m\u001b[2mDownloaded  (013 code.zip)\n",
            "\u001b[0m\u001b[36m\u001b[2m\n",
            "[\u001b[35m\u001b[1m*\u001b[36m\u001b[2m] : \u001b[32m\u001b[2mLecture(s) : (6 of 10)\n",
            "\u001b[0m\u001b[36m\u001b[2m[\u001b[35m\u001b[1m*\u001b[36m\u001b[2m] : \u001b[32m\u001b[2mDownloading (014 Conditional Rendering)\n",
            "\u001b[36m\u001b[2m[\u001b[35m\u001b[1m*\u001b[36m\u001b[2m] : \u001b[32m\u001b[1m51.57MB/51.57MB 100.00% |\u001b[36m\u001b[2m##############################\u001b[37m\u001b[2m\u001b[32m\u001b[1m| 17.89MB/s \n",
            "\u001b[0m\u001b[36m\u001b[2m[\u001b[35m\u001b[1m+\u001b[36m\u001b[2m] : \u001b[32m\u001b[2mDownloaded  (014 Conditional Rendering)\n",
            "\u001b[0m\u001b[36m\u001b[2m\n",
            "[\u001b[35m\u001b[1m*\u001b[36m\u001b[2m] : \u001b[32m\u001b[2mDownloading asset(s)\n",
            "\u001b[0m\u001b[36m\u001b[2m[\u001b[35m\u001b[1m*\u001b[36m\u001b[2m] : \u001b[32m\u001b[2mDownloading (014 code.zip)\n",
            "\u001b[36m\u001b[2m[\u001b[35m\u001b[1m*\u001b[36m\u001b[2m] : \u001b[32m\u001b[1m2.05KB/2.05KB 100.00% |\u001b[36m\u001b[2m##############################\u001b[37m\u001b[2m\u001b[32m\u001b[1m| 14.83kB/s \n",
            "\u001b[0m\u001b[36m\u001b[2m[\u001b[35m\u001b[1m+\u001b[36m\u001b[2m] : \u001b[32m\u001b[2mDownloaded  (014 code.zip)\n",
            "\u001b[0m\u001b[36m\u001b[2m\n",
            "[\u001b[35m\u001b[1m*\u001b[36m\u001b[2m] : \u001b[32m\u001b[2mLecture(s) : (7 of 10)\n",
            "\u001b[0m\u001b[36m\u001b[2m[\u001b[35m\u001b[1m*\u001b[36m\u001b[2m] : \u001b[32m\u001b[2mDownloading (015 Looping or Iteration)\n",
            "\u001b[36m\u001b[2m[\u001b[35m\u001b[1m*\u001b[36m\u001b[2m] : \u001b[32m\u001b[1m49.36MB/49.36MB 100.00% |\u001b[36m\u001b[2m##############################\u001b[37m\u001b[2m\u001b[32m\u001b[1m| 16.98MB/s \n",
            "\u001b[0m\u001b[36m\u001b[2m[\u001b[35m\u001b[1m+\u001b[36m\u001b[2m] : \u001b[32m\u001b[2mDownloaded  (015 Looping or Iteration)\n",
            "\u001b[0m\u001b[36m\u001b[2m\n",
            "[\u001b[35m\u001b[1m*\u001b[36m\u001b[2m] : \u001b[32m\u001b[2mDownloading asset(s)\n",
            "\u001b[0m\u001b[36m\u001b[2m[\u001b[35m\u001b[1m*\u001b[36m\u001b[2m] : \u001b[32m\u001b[2mDownloading (015 code.zip)\n",
            "\u001b[36m\u001b[2m[\u001b[35m\u001b[1m*\u001b[36m\u001b[2m] : \u001b[32m\u001b[1m2.18KB/2.18KB 100.00% |\u001b[36m\u001b[2m##############################\u001b[37m\u001b[2m\u001b[32m\u001b[1m| 16.38kB/s \n",
            "\u001b[0m\u001b[36m\u001b[2m[\u001b[35m\u001b[1m+\u001b[36m\u001b[2m] : \u001b[32m\u001b[2mDownloaded  (015 code.zip)\n",
            "\u001b[0m\u001b[36m\u001b[2m\n",
            "[\u001b[35m\u001b[1m*\u001b[36m\u001b[2m] : \u001b[32m\u001b[2mLecture(s) : (8 of 10)\n",
            "\u001b[0m\u001b[36m\u001b[2m[\u001b[35m\u001b[1m*\u001b[36m\u001b[2m] : \u001b[32m\u001b[2mDownloading (016 Project - Simple Calculator - Part 1)\n",
            "\u001b[36m\u001b[2m[\u001b[35m\u001b[1m*\u001b[36m\u001b[2m] : \u001b[32m\u001b[1m158.14MB/158.14MB 100.00% |\u001b[36m\u001b[2m##############################\u001b[37m\u001b[2m\u001b[32m\u001b[1m| 18.20MB/s \n",
            "\u001b[0m\u001b[36m\u001b[2m[\u001b[35m\u001b[1m+\u001b[36m\u001b[2m] : \u001b[32m\u001b[2mDownloaded  (016 Project - Simple Calculator - Part 1)\n",
            "\u001b[0m\u001b[36m\u001b[2m\n",
            "[\u001b[35m\u001b[1m*\u001b[36m\u001b[2m] : \u001b[32m\u001b[2mDownloading asset(s)\n",
            "\u001b[0m\u001b[36m\u001b[2m[\u001b[35m\u001b[1m*\u001b[36m\u001b[2m] : \u001b[32m\u001b[2mDownloading (016 code.zip)\n",
            "\u001b[36m\u001b[2m[\u001b[35m\u001b[1m*\u001b[36m\u001b[2m] : \u001b[32m\u001b[1m1.70KB/1.70KB 100.00% |\u001b[36m\u001b[2m##############################\u001b[37m\u001b[2m\u001b[32m\u001b[1m| 12.90kB/s \n",
            "\u001b[0m\u001b[36m\u001b[2m[\u001b[35m\u001b[1m+\u001b[36m\u001b[2m] : \u001b[32m\u001b[2mDownloaded  (016 code.zip)\n",
            "\u001b[0m\u001b[36m\u001b[2m\n",
            "[\u001b[35m\u001b[1m*\u001b[36m\u001b[2m] : \u001b[32m\u001b[2mLecture(s) : (9 of 10)\n",
            "\u001b[0m\u001b[36m\u001b[2m[\u001b[35m\u001b[1m*\u001b[36m\u001b[2m] : \u001b[32m\u001b[2mDownloading (017 Project - Simple Calculator - Part 2)\n",
            "\u001b[36m\u001b[2m[\u001b[35m\u001b[1m*\u001b[36m\u001b[2m] : \u001b[32m\u001b[1m84.34MB/84.34MB 100.00% |\u001b[36m\u001b[2m##############################\u001b[37m\u001b[2m\u001b[32m\u001b[1m| 18.17MB/s \n",
            "\u001b[0m\u001b[36m\u001b[2m[\u001b[35m\u001b[1m+\u001b[36m\u001b[2m] : \u001b[32m\u001b[2mDownloaded  (017 Project - Simple Calculator - Part 2)\n",
            "\u001b[0m\u001b[36m\u001b[2m\n",
            "[\u001b[35m\u001b[1m*\u001b[36m\u001b[2m] : \u001b[32m\u001b[2mDownloading asset(s)\n",
            "\u001b[0m\u001b[36m\u001b[2m[\u001b[35m\u001b[1m*\u001b[36m\u001b[2m] : \u001b[32m\u001b[2mDownloading (017 code.zip)\n",
            "\u001b[36m\u001b[2m[\u001b[35m\u001b[1m*\u001b[36m\u001b[2m] : \u001b[32m\u001b[1m2.49KB/2.49KB 100.00% |\u001b[36m\u001b[2m##############################\u001b[37m\u001b[2m\u001b[32m\u001b[1m| 18.57kB/s \n",
            "\u001b[0m\u001b[36m\u001b[2m[\u001b[35m\u001b[1m+\u001b[36m\u001b[2m] : \u001b[32m\u001b[2mDownloaded  (017 code.zip)\n",
            "\u001b[0m\u001b[36m\u001b[2m\n",
            "[\u001b[35m\u001b[1m*\u001b[36m\u001b[2m] : \u001b[32m\u001b[2mLecture(s) : (10 of 10)\n",
            "\u001b[0m\u001b[36m\u001b[2m[\u001b[35m\u001b[1m*\u001b[36m\u001b[2m] : \u001b[32m\u001b[2mDownloading (018 Bonus - Component Library Overview)\n",
            "\u001b[36m\u001b[2m[\u001b[35m\u001b[1m*\u001b[36m\u001b[2m] : \u001b[32m\u001b[1m29.51MB/29.51MB 100.00% |\u001b[36m\u001b[2m##############################\u001b[37m\u001b[2m\u001b[32m\u001b[1m| 18.51MB/s \n",
            "\u001b[0m\u001b[36m\u001b[2m[\u001b[35m\u001b[1m+\u001b[36m\u001b[2m] : \u001b[32m\u001b[2mDownloaded  (018 Bonus - Component Library Overview)\n",
            "\u001b[0m\u001b[36m\u001b[2m\n",
            "[\u001b[35m\u001b[1m*\u001b[36m\u001b[2m] : \u001b[35m\u001b[1mDownloading chapter : (3 of 12)\n",
            "\u001b[0m\u001b[36m\u001b[2m[\u001b[37m\u001b[1m+\u001b[36m\u001b[2m] : \u001b[37m\u001b[2mChapter (03 Javascript Properties)\n",
            "\u001b[0m\u001b[36m\u001b[2m[\u001b[35m\u001b[1m*\u001b[36m\u001b[2m] : \u001b[32m\u001b[2mFound (8) lectures ...\n",
            "\u001b[0m\u001b[36m\u001b[2m\n",
            "[\u001b[35m\u001b[1m*\u001b[36m\u001b[2m] : \u001b[32m\u001b[2mLecture(s) : (2 of 8)\n",
            "\u001b[0m\u001b[36m\u001b[2m[\u001b[35m\u001b[1m*\u001b[36m\u001b[2m] : \u001b[32m\u001b[2mDownloading (020 Private Properties - Non Reactive)\n",
            "\u001b[36m\u001b[2m[\u001b[35m\u001b[1m*\u001b[36m\u001b[2m] : \u001b[32m\u001b[1m37.37MB/37.37MB 100.00% |\u001b[36m\u001b[2m##############################\u001b[37m\u001b[2m\u001b[32m\u001b[1m| 17.78MB/s \n",
            "\u001b[0m\u001b[36m\u001b[2m[\u001b[35m\u001b[1m+\u001b[36m\u001b[2m] : \u001b[32m\u001b[2mDownloaded  (020 Private Properties - Non Reactive)\n",
            "\u001b[0m\u001b[36m\u001b[2m\n",
            "[\u001b[35m\u001b[1m*\u001b[36m\u001b[2m] : \u001b[32m\u001b[2mDownloading asset(s)\n",
            "\u001b[0m\u001b[36m\u001b[2m[\u001b[35m\u001b[1m*\u001b[36m\u001b[2m] : \u001b[32m\u001b[2mDownloading (020 code.zip)\n",
            "\u001b[36m\u001b[2m[\u001b[35m\u001b[1m*\u001b[36m\u001b[2m] : \u001b[32m\u001b[1m1.20KB/1.20KB 100.00% |\u001b[36m\u001b[2m##############################\u001b[37m\u001b[2m\u001b[32m\u001b[1m| 3.22kB/s \n",
            "\u001b[0m\u001b[36m\u001b[2m[\u001b[35m\u001b[1m+\u001b[36m\u001b[2m] : \u001b[32m\u001b[2mDownloaded  (020 code.zip)\n",
            "\u001b[0m\u001b[36m\u001b[2m\n",
            "[\u001b[35m\u001b[1m*\u001b[36m\u001b[2m] : \u001b[32m\u001b[2mLecture(s) : (3 of 8)\n",
            "\u001b[0m\u001b[36m\u001b[2m[\u001b[35m\u001b[1m*\u001b[36m\u001b[2m] : \u001b[32m\u001b[2mDownloading (021 Private Properties - Reactive)\n",
            "\u001b[36m\u001b[2m[\u001b[35m\u001b[1m*\u001b[36m\u001b[2m] : \u001b[32m\u001b[1m48.91MB/48.91MB 100.00% |\u001b[36m\u001b[2m##############################\u001b[37m\u001b[2m\u001b[32m\u001b[1m| 18.20MB/s \n",
            "\u001b[0m\u001b[36m\u001b[2m[\u001b[35m\u001b[1m+\u001b[36m\u001b[2m] : \u001b[32m\u001b[2mDownloaded  (021 Private Properties - Reactive)\n",
            "\u001b[0m\u001b[36m\u001b[2m\n",
            "[\u001b[35m\u001b[1m*\u001b[36m\u001b[2m] : \u001b[32m\u001b[2mDownloading asset(s)\n",
            "\u001b[0m\u001b[36m\u001b[2m[\u001b[35m\u001b[1m*\u001b[36m\u001b[2m] : \u001b[32m\u001b[2mDownloading (021 code.zip)\n",
            "\u001b[36m\u001b[2m[\u001b[35m\u001b[1m*\u001b[36m\u001b[2m] : \u001b[32m\u001b[1m1.34KB/1.34KB 100.00% |\u001b[36m\u001b[2m##############################\u001b[37m\u001b[2m\u001b[32m\u001b[1m| 7.78kB/s \n",
            "\u001b[0m\u001b[36m\u001b[2m[\u001b[35m\u001b[1m+\u001b[36m\u001b[2m] : \u001b[32m\u001b[2mDownloaded  (021 code.zip)\n",
            "\u001b[0m\u001b[36m\u001b[2m\n",
            "[\u001b[35m\u001b[1m*\u001b[36m\u001b[2m] : \u001b[32m\u001b[2mLecture(s) : (4 of 8)\n",
            "\u001b[0m\u001b[36m\u001b[2m[\u001b[35m\u001b[1m*\u001b[36m\u001b[2m] : \u001b[32m\u001b[2mDownloading (022 Spring20 Update - All Properties Are Reactive)\n",
            "\u001b[36m\u001b[2m[\u001b[35m\u001b[1m*\u001b[36m\u001b[2m] : \u001b[32m\u001b[1m20.61MB/20.61MB 100.00% |\u001b[36m\u001b[2m##############################\u001b[37m\u001b[2m\u001b[32m\u001b[1m| 16.92MB/s \n",
            "\u001b[0m\u001b[36m\u001b[2m[\u001b[35m\u001b[1m+\u001b[36m\u001b[2m] : \u001b[32m\u001b[2mDownloaded  (022 Spring20 Update - All Properties Are Reactive)\n",
            "\u001b[0m\u001b[36m\u001b[2m\n",
            "[\u001b[35m\u001b[1m*\u001b[36m\u001b[2m] : \u001b[32m\u001b[2mLecture(s) : (5 of 8)\n",
            "\u001b[0m\u001b[36m\u001b[2m[\u001b[35m\u001b[1m*\u001b[36m\u001b[2m] : \u001b[32m\u001b[2mDownloading (023 Spring20 Update - When To Use Track Decorator)\n",
            "\u001b[36m\u001b[2m[\u001b[35m\u001b[1m*\u001b[36m\u001b[2m] : \u001b[32m\u001b[1m50.92MB/50.92MB 100.00% |\u001b[36m\u001b[2m##############################\u001b[37m\u001b[2m\u001b[32m\u001b[1m| 17.86MB/s \n",
            "\u001b[0m\u001b[36m\u001b[2m[\u001b[35m\u001b[1m+\u001b[36m\u001b[2m] : \u001b[32m\u001b[2mDownloaded  (023 Spring20 Update - When To Use Track Decorator)\n",
            "\u001b[0m\u001b[36m\u001b[2m\n",
            "[\u001b[35m\u001b[1m*\u001b[36m\u001b[2m] : \u001b[32m\u001b[2mLecture(s) : (6 of 8)\n",
            "\u001b[0m\u001b[36m\u001b[2m[\u001b[35m\u001b[1m*\u001b[36m\u001b[2m] : \u001b[32m\u001b[2mDownloading (024 Getter Properties)\n",
            "\u001b[36m\u001b[2m[\u001b[35m\u001b[1m*\u001b[36m\u001b[2m] : \u001b[32m\u001b[1m20.72MB/20.72MB 100.00% |\u001b[36m\u001b[2m##############################\u001b[37m\u001b[2m\u001b[32m\u001b[1m| 17.34MB/s \n",
            "\u001b[0m\u001b[36m\u001b[2m[\u001b[35m\u001b[1m+\u001b[36m\u001b[2m] : \u001b[32m\u001b[2mDownloaded  (024 Getter Properties)\n",
            "\u001b[0m\u001b[36m\u001b[2m\n",
            "[\u001b[35m\u001b[1m*\u001b[36m\u001b[2m] : \u001b[32m\u001b[2mDownloading asset(s)\n",
            "\u001b[0m\u001b[36m\u001b[2m[\u001b[35m\u001b[1m*\u001b[36m\u001b[2m] : \u001b[32m\u001b[2mDownloading (024 code.zip)\n",
            "\u001b[36m\u001b[2m[\u001b[35m\u001b[1m*\u001b[36m\u001b[2m] : \u001b[32m\u001b[1m1.38KB/1.38KB 100.00% |\u001b[36m\u001b[2m##############################\u001b[37m\u001b[2m\u001b[32m\u001b[1m| 10.47kB/s \n",
            "\u001b[0m\u001b[36m\u001b[2m[\u001b[35m\u001b[1m+\u001b[36m\u001b[2m] : \u001b[32m\u001b[2mDownloaded  (024 code.zip)\n",
            "\u001b[0m\u001b[36m\u001b[2m\n",
            "[\u001b[35m\u001b[1m*\u001b[36m\u001b[2m] : \u001b[32m\u001b[2mLecture(s) : (7 of 8)\n",
            "\u001b[0m\u001b[36m\u001b[2m[\u001b[35m\u001b[1m*\u001b[36m\u001b[2m] : \u001b[32m\u001b[2mDownloading (025 Public Properties)\n",
            "\u001b[36m\u001b[2m[\u001b[35m\u001b[1m*\u001b[36m\u001b[2m] : \u001b[32m\u001b[1m91.11MB/91.11MB 100.00% |\u001b[36m\u001b[2m##############################\u001b[37m\u001b[2m\u001b[32m\u001b[1m| 18.27MB/s \n",
            "\u001b[0m\u001b[36m\u001b[2m[\u001b[35m\u001b[1m+\u001b[36m\u001b[2m] : \u001b[32m\u001b[2mDownloaded  (025 Public Properties)\n",
            "\u001b[0m\u001b[36m\u001b[2m\n",
            "[\u001b[35m\u001b[1m*\u001b[36m\u001b[2m] : \u001b[32m\u001b[2mDownloading asset(s)\n",
            "\u001b[0m\u001b[36m\u001b[2m[\u001b[35m\u001b[1m*\u001b[36m\u001b[2m] : \u001b[32m\u001b[2mDownloading (025 code.zip)\n",
            "\u001b[36m\u001b[2m[\u001b[35m\u001b[1m*\u001b[36m\u001b[2m] : \u001b[32m\u001b[1m2.58KB/2.58KB 100.00% |\u001b[36m\u001b[2m##############################\u001b[37m\u001b[2m\u001b[32m\u001b[1m| 11.47kB/s \n",
            "\u001b[0m\u001b[36m\u001b[2m[\u001b[35m\u001b[1m+\u001b[36m\u001b[2m] : \u001b[32m\u001b[2mDownloaded  (025 code.zip)\n",
            "\u001b[0m\u001b[36m\u001b[2m\n",
            "[\u001b[35m\u001b[1m*\u001b[36m\u001b[2m] : \u001b[32m\u001b[2mLecture(s) : (8 of 8)\n",
            "\u001b[0m\u001b[36m\u001b[2m[\u001b[35m\u001b[1m*\u001b[36m\u001b[2m] : \u001b[32m\u001b[2mDownloading (026 Public Boolean Properties)\n",
            "\u001b[36m\u001b[2m[\u001b[35m\u001b[1m*\u001b[36m\u001b[2m] : \u001b[32m\u001b[1m23.40MB/23.40MB 100.00% |\u001b[36m\u001b[2m##############################\u001b[37m\u001b[2m\u001b[32m\u001b[1m| 18.26MB/s \n",
            "\u001b[0m\u001b[36m\u001b[2m[\u001b[35m\u001b[1m+\u001b[36m\u001b[2m] : \u001b[32m\u001b[2mDownloaded  (026 Public Boolean Properties)\n",
            "\u001b[0m\u001b[36m\u001b[2m\n",
            "[\u001b[35m\u001b[1m*\u001b[36m\u001b[2m] : \u001b[32m\u001b[2mDownloading asset(s)\n",
            "\u001b[0m\u001b[36m\u001b[2m[\u001b[35m\u001b[1m*\u001b[36m\u001b[2m] : \u001b[32m\u001b[2mDownloading (026 code.zip)\n",
            "\u001b[36m\u001b[2m[\u001b[35m\u001b[1m*\u001b[36m\u001b[2m] : \u001b[32m\u001b[1m2.62KB/2.62KB 100.00% |\u001b[36m\u001b[2m##############################\u001b[37m\u001b[2m\u001b[32m\u001b[1m| 19.99kB/s \n",
            "\u001b[0m\u001b[36m\u001b[2m[\u001b[35m\u001b[1m+\u001b[36m\u001b[2m] : \u001b[32m\u001b[2mDownloaded  (026 code.zip)\n",
            "\u001b[0m\u001b[36m\u001b[2m\n",
            "[\u001b[35m\u001b[1m*\u001b[36m\u001b[2m] : \u001b[35m\u001b[1mDownloading chapter : (4 of 12)\n",
            "\u001b[0m\u001b[36m\u001b[2m[\u001b[37m\u001b[1m+\u001b[36m\u001b[2m] : \u001b[37m\u001b[2mChapter (04 LWC Local Development)\n",
            "\u001b[0m\u001b[36m\u001b[2m[\u001b[35m\u001b[1m*\u001b[36m\u001b[2m] : \u001b[32m\u001b[2mFound (1) lectures ...\n",
            "\u001b[0m\u001b[36m\u001b[2m\n",
            "[\u001b[35m\u001b[1m*\u001b[36m\u001b[2m] : \u001b[32m\u001b[2mLecture(s) : (1 of 1)\n",
            "\u001b[0m\u001b[36m\u001b[2m[\u001b[35m\u001b[1m*\u001b[36m\u001b[2m] : \u001b[32m\u001b[2mDownloading (027 LWC Local Development)\n",
            "\u001b[36m\u001b[2m[\u001b[35m\u001b[1m*\u001b[36m\u001b[2m] : \u001b[32m\u001b[1m57.17MB/57.17MB 100.00% |\u001b[36m\u001b[2m##############################\u001b[37m\u001b[2m\u001b[32m\u001b[1m| 18.33MB/s \n",
            "\u001b[0m\u001b[36m\u001b[2m[\u001b[35m\u001b[1m+\u001b[36m\u001b[2m] : \u001b[32m\u001b[2mDownloaded  (027 LWC Local Development)\n",
            "\u001b[0m\u001b[36m\u001b[2m\n",
            "[\u001b[35m\u001b[1m*\u001b[36m\u001b[2m] : \u001b[35m\u001b[1mDownloading chapter : (5 of 12)\n",
            "\u001b[0m\u001b[36m\u001b[2m[\u001b[37m\u001b[1m+\u001b[36m\u001b[2m] : \u001b[37m\u001b[2mChapter (05 Component Lifecycle  Composition)\n",
            "\u001b[0m\u001b[36m\u001b[2m[\u001b[35m\u001b[1m*\u001b[36m\u001b[2m] : \u001b[32m\u001b[2mFound (4) lectures ...\n",
            "\u001b[0m\u001b[36m\u001b[2m\n",
            "[\u001b[35m\u001b[1m*\u001b[36m\u001b[2m] : \u001b[32m\u001b[2mLecture(s) : (1 of 4)\n",
            "\u001b[0m\u001b[36m\u001b[2m[\u001b[35m\u001b[1m*\u001b[36m\u001b[2m] : \u001b[32m\u001b[2mDownloading (028 Using Slots)\n",
            "\u001b[36m\u001b[2m[\u001b[35m\u001b[1m*\u001b[36m\u001b[2m] : \u001b[32m\u001b[1m57.18MB/57.18MB 100.00% |\u001b[36m\u001b[2m##############################\u001b[37m\u001b[2m\u001b[32m\u001b[1m| 17.90MB/s \n",
            "\u001b[0m\u001b[36m\u001b[2m[\u001b[35m\u001b[1m+\u001b[36m\u001b[2m] : \u001b[32m\u001b[2mDownloaded  (028 Using Slots)\n",
            "\u001b[0m\u001b[36m\u001b[2m\n",
            "[\u001b[35m\u001b[1m*\u001b[36m\u001b[2m] : \u001b[32m\u001b[2mDownloading asset(s)\n",
            "\u001b[0m\u001b[36m\u001b[2m[\u001b[35m\u001b[1m*\u001b[36m\u001b[2m] : \u001b[32m\u001b[2mDownloading (028 code.zip)\n",
            "\u001b[36m\u001b[2m[\u001b[35m\u001b[1m*\u001b[36m\u001b[2m] : \u001b[32m\u001b[1m2.73KB/2.73KB 100.00% |\u001b[36m\u001b[2m##############################\u001b[37m\u001b[2m\u001b[32m\u001b[1m| 16.78kB/s \n",
            "\u001b[0m\u001b[36m\u001b[2m[\u001b[35m\u001b[1m+\u001b[36m\u001b[2m] : \u001b[32m\u001b[2mDownloaded  (028 code.zip)\n",
            "\u001b[0m\u001b[36m\u001b[2m\n",
            "[\u001b[35m\u001b[1m*\u001b[36m\u001b[2m] : \u001b[32m\u001b[2mLecture(s) : (2 of 4)\n",
            "\u001b[0m\u001b[36m\u001b[2m[\u001b[35m\u001b[1m*\u001b[36m\u001b[2m] : \u001b[32m\u001b[2mDownloading (029 Public Methods)\n",
            "\u001b[36m\u001b[2m[\u001b[35m\u001b[1m*\u001b[36m\u001b[2m] : \u001b[32m\u001b[1m151.87MB/151.87MB 100.00% |\u001b[36m\u001b[2m##############################\u001b[37m\u001b[2m\u001b[32m\u001b[1m| 17.88MB/s \n",
            "\u001b[0m\u001b[36m\u001b[2m[\u001b[35m\u001b[1m+\u001b[36m\u001b[2m] : \u001b[32m\u001b[2mDownloaded  (029 Public Methods)\n",
            "\u001b[0m\u001b[36m\u001b[2m\n",
            "[\u001b[35m\u001b[1m*\u001b[36m\u001b[2m] : \u001b[32m\u001b[2mDownloading asset(s)\n",
            "\u001b[0m\u001b[36m\u001b[2m[\u001b[35m\u001b[1m*\u001b[36m\u001b[2m] : \u001b[32m\u001b[2mDownloading (029 code.zip)\n",
            "\u001b[36m\u001b[2m[\u001b[35m\u001b[1m*\u001b[36m\u001b[2m] : \u001b[32m\u001b[1m3.23KB/3.23KB 100.00% |\u001b[36m\u001b[2m##############################\u001b[37m\u001b[2m\u001b[32m\u001b[1m| 8.26kB/s \n",
            "\u001b[0m\u001b[36m\u001b[2m[\u001b[35m\u001b[1m+\u001b[36m\u001b[2m] : \u001b[32m\u001b[2mDownloaded  (029 code.zip)\n",
            "\u001b[0m\u001b[36m\u001b[2m\n",
            "[\u001b[35m\u001b[1m*\u001b[36m\u001b[2m] : \u001b[32m\u001b[2mLecture(s) : (3 of 4)\n",
            "\u001b[0m\u001b[36m\u001b[2m[\u001b[35m\u001b[1m*\u001b[36m\u001b[2m] : \u001b[32m\u001b[2mDownloading (030 Shadow DOM)\n",
            "\u001b[36m\u001b[2m[\u001b[35m\u001b[1m*\u001b[36m\u001b[2m] : \u001b[32m\u001b[1m27.08MB/27.08MB 100.00% |\u001b[36m\u001b[2m##############################\u001b[37m\u001b[2m\u001b[32m\u001b[1m| 17.55MB/s \n",
            "\u001b[0m\u001b[36m\u001b[2m[\u001b[35m\u001b[1m+\u001b[36m\u001b[2m] : \u001b[32m\u001b[2mDownloaded  (030 Shadow DOM)\n",
            "\u001b[0m\u001b[36m\u001b[2m\n",
            "[\u001b[35m\u001b[1m*\u001b[36m\u001b[2m] : \u001b[32m\u001b[2mDownloading asset(s)\n",
            "\u001b[0m\u001b[36m\u001b[2m[\u001b[35m\u001b[1m*\u001b[36m\u001b[2m] : \u001b[32m\u001b[2mDownloading (030 code.zip)\n",
            "\u001b[36m\u001b[2m[\u001b[35m\u001b[1m*\u001b[36m\u001b[2m] : \u001b[32m\u001b[1m2.73KB/2.73KB 100.00% |\u001b[36m\u001b[2m##############################\u001b[37m\u001b[2m\u001b[32m\u001b[1m| 14.53kB/s \n",
            "\u001b[0m\u001b[36m\u001b[2m[\u001b[35m\u001b[1m+\u001b[36m\u001b[2m] : \u001b[32m\u001b[2mDownloaded  (030 code.zip)\n",
            "\u001b[0m\u001b[36m\u001b[2m\n",
            "[\u001b[35m\u001b[1m*\u001b[36m\u001b[2m] : \u001b[32m\u001b[2mLecture(s) : (4 of 4)\n",
            "\u001b[0m\u001b[36m\u001b[2m[\u001b[35m\u001b[1m*\u001b[36m\u001b[2m] : \u001b[32m\u001b[2mDownloading (031 Component Lifecycle)\n",
            "\u001b[36m\u001b[2m[\u001b[35m\u001b[1m*\u001b[36m\u001b[2m] : \u001b[32m\u001b[1m44.69MB/44.69MB 100.00% |\u001b[36m\u001b[2m##############################\u001b[37m\u001b[2m\u001b[32m\u001b[1m| 17.61MB/s \n",
            "\u001b[0m\u001b[36m\u001b[2m[\u001b[35m\u001b[1m+\u001b[36m\u001b[2m] : \u001b[32m\u001b[2mDownloaded  (031 Component Lifecycle)\n",
            "\u001b[0m\u001b[36m\u001b[2m\n",
            "[\u001b[35m\u001b[1m*\u001b[36m\u001b[2m] : \u001b[32m\u001b[2mDownloading asset(s)\n",
            "\u001b[0m\u001b[36m\u001b[2m[\u001b[35m\u001b[1m*\u001b[36m\u001b[2m] : \u001b[32m\u001b[2mDownloading (031 code.zip)\n",
            "\u001b[36m\u001b[2m[\u001b[35m\u001b[1m*\u001b[36m\u001b[2m] : \u001b[32m\u001b[1m1.16KB/1.16KB 100.00% |\u001b[36m\u001b[2m##############################\u001b[37m\u001b[2m\u001b[32m\u001b[1m| 7.93kB/s \n",
            "\u001b[0m\u001b[36m\u001b[2m[\u001b[35m\u001b[1m+\u001b[36m\u001b[2m] : \u001b[32m\u001b[2mDownloaded  (031 code.zip)\n",
            "\u001b[0m\u001b[36m\u001b[2m\n",
            "[\u001b[35m\u001b[1m*\u001b[36m\u001b[2m] : \u001b[35m\u001b[1mDownloading chapter : (6 of 12)\n",
            "\u001b[0m\u001b[36m\u001b[2m[\u001b[37m\u001b[1m+\u001b[36m\u001b[2m] : \u001b[37m\u001b[2mChapter (06 Component Communication Using Events)\n",
            "\u001b[0m\u001b[36m\u001b[2m[\u001b[35m\u001b[1m*\u001b[36m\u001b[2m] : \u001b[32m\u001b[2mFound (3) lectures ...\n",
            "\u001b[0m\u001b[36m\u001b[2m\n",
            "[\u001b[35m\u001b[1m*\u001b[36m\u001b[2m] : \u001b[32m\u001b[2mLecture(s) : (1 of 3)\n",
            "\u001b[0m\u001b[36m\u001b[2m[\u001b[35m\u001b[1m*\u001b[36m\u001b[2m] : \u001b[32m\u001b[2mDownloading (032 Dispatching And Handling Events)\n",
            "\u001b[36m\u001b[2m[\u001b[35m\u001b[1m*\u001b[36m\u001b[2m] : \u001b[32m\u001b[1m111.74MB/111.74MB 100.00% |\u001b[36m\u001b[2m##############################\u001b[37m\u001b[2m\u001b[32m\u001b[1m| 18.38MB/s \n",
            "\u001b[0m\u001b[36m\u001b[2m[\u001b[35m\u001b[1m+\u001b[36m\u001b[2m] : \u001b[32m\u001b[2mDownloaded  (032 Dispatching And Handling Events)\n",
            "\u001b[0m\u001b[36m\u001b[2m\n",
            "[\u001b[35m\u001b[1m*\u001b[36m\u001b[2m] : \u001b[32m\u001b[2mDownloading asset(s)\n",
            "\u001b[0m\u001b[36m\u001b[2m[\u001b[35m\u001b[1m*\u001b[36m\u001b[2m] : \u001b[32m\u001b[2mDownloading (032 code.zip)\n",
            "\u001b[36m\u001b[2m[\u001b[35m\u001b[1m*\u001b[36m\u001b[2m] : \u001b[32m\u001b[1m2.93KB/2.93KB 100.00% |\u001b[36m\u001b[2m##############################\u001b[37m\u001b[2m\u001b[32m\u001b[1m| 22.59kB/s \n",
            "\u001b[0m\u001b[36m\u001b[2m[\u001b[35m\u001b[1m+\u001b[36m\u001b[2m] : \u001b[32m\u001b[2mDownloaded  (032 code.zip)\n",
            "\u001b[0m\u001b[36m\u001b[2m\n",
            "[\u001b[35m\u001b[1m*\u001b[36m\u001b[2m] : \u001b[32m\u001b[2mLecture(s) : (2 of 3)\n",
            "\u001b[0m\u001b[36m\u001b[2m[\u001b[35m\u001b[1m*\u001b[36m\u001b[2m] : \u001b[32m\u001b[2mDownloading (033 Communication Between Independent Components)\n",
            "\u001b[36m\u001b[2m[\u001b[35m\u001b[1m*\u001b[36m\u001b[2m] : \u001b[32m\u001b[1m129.69MB/129.69MB 100.00% |\u001b[36m\u001b[2m##############################\u001b[37m\u001b[2m\u001b[32m\u001b[1m| 18.51MB/s \n",
            "\u001b[0m\u001b[36m\u001b[2m[\u001b[35m\u001b[1m+\u001b[36m\u001b[2m] : \u001b[32m\u001b[2mDownloaded  (033 Communication Between Independent Components)\n",
            "\u001b[0m\u001b[36m\u001b[2m\n",
            "[\u001b[35m\u001b[1m*\u001b[36m\u001b[2m] : \u001b[32m\u001b[2mDownloading asset(s)\n",
            "\u001b[0m\u001b[36m\u001b[2m[\u001b[35m\u001b[1m*\u001b[36m\u001b[2m] : \u001b[32m\u001b[2mDownloading (033 code.zip)\n",
            "\u001b[36m\u001b[2m[\u001b[35m\u001b[1m*\u001b[36m\u001b[2m] : \u001b[32m\u001b[1m5.88KB/5.88KB 100.00% |\u001b[36m\u001b[2m##############################\u001b[37m\u001b[2m\u001b[32m\u001b[1m| 44.75kB/s \n",
            "\u001b[0m\u001b[36m\u001b[2m[\u001b[35m\u001b[1m+\u001b[36m\u001b[2m] : \u001b[32m\u001b[2mDownloaded  (033 code.zip)\n",
            "\u001b[0m\u001b[36m\u001b[2m\n",
            "[\u001b[35m\u001b[1m*\u001b[36m\u001b[2m] : \u001b[32m\u001b[2mLecture(s) : (3 of 3)\n",
            "\u001b[0m\u001b[36m\u001b[2m[\u001b[35m\u001b[1m*\u001b[36m\u001b[2m] : \u001b[32m\u001b[2mDownloading (034 Share Javascript Code)\n",
            "\u001b[36m\u001b[2m[\u001b[35m\u001b[1m*\u001b[36m\u001b[2m] : \u001b[32m\u001b[1m44.90MB/44.90MB 100.00% |\u001b[36m\u001b[2m##############################\u001b[37m\u001b[2m\u001b[32m\u001b[1m| 18.04MB/s \n",
            "\u001b[0m\u001b[36m\u001b[2m[\u001b[35m\u001b[1m+\u001b[36m\u001b[2m] : \u001b[32m\u001b[2mDownloaded  (034 Share Javascript Code)\n",
            "\u001b[0m\u001b[36m\u001b[2m\n",
            "[\u001b[35m\u001b[1m*\u001b[36m\u001b[2m] : \u001b[32m\u001b[2mDownloading asset(s)\n",
            "\u001b[0m\u001b[36m\u001b[2m[\u001b[35m\u001b[1m*\u001b[36m\u001b[2m] : \u001b[32m\u001b[2mDownloading (034 code.zip)\n",
            "\u001b[36m\u001b[2m[\u001b[35m\u001b[1m*\u001b[36m\u001b[2m] : \u001b[32m\u001b[1m2.20KB/2.20KB 100.00% |\u001b[36m\u001b[2m##############################\u001b[37m\u001b[2m\u001b[32m\u001b[1m| 16.25kB/s \n",
            "\u001b[0m\u001b[36m\u001b[2m[\u001b[35m\u001b[1m+\u001b[36m\u001b[2m] : \u001b[32m\u001b[2mDownloaded  (034 code.zip)\n",
            "\u001b[0m\u001b[36m\u001b[2m\n",
            "[\u001b[35m\u001b[1m*\u001b[36m\u001b[2m] : \u001b[35m\u001b[1mDownloading chapter : (7 of 12)\n",
            "\u001b[0m\u001b[36m\u001b[2m[\u001b[37m\u001b[1m+\u001b[36m\u001b[2m] : \u001b[37m\u001b[2mChapter (07 Access Salesforce Data)\n",
            "\u001b[0m\u001b[36m\u001b[2m[\u001b[35m\u001b[1m*\u001b[36m\u001b[2m] : \u001b[32m\u001b[2mFound (7) lectures ...\n",
            "\u001b[0m\u001b[36m\u001b[2m\n",
            "[\u001b[35m\u001b[1m*\u001b[36m\u001b[2m] : \u001b[32m\u001b[2mLecture(s) : (1 of 7)\n",
            "\u001b[0m\u001b[36m\u001b[2m[\u001b[35m\u001b[1m*\u001b[36m\u001b[2m] : \u001b[32m\u001b[2mDownloading (035 Working With Salesforce Data - An Overview)\n",
            "\u001b[36m\u001b[2m[\u001b[35m\u001b[1m*\u001b[36m\u001b[2m] : \u001b[32m\u001b[1m42.66MB/42.66MB 100.00% |\u001b[36m\u001b[2m##############################\u001b[37m\u001b[2m\u001b[32m\u001b[1m| 18.29MB/s \n",
            "\u001b[0m\u001b[36m\u001b[2m[\u001b[35m\u001b[1m+\u001b[36m\u001b[2m] : \u001b[32m\u001b[2mDownloaded  (035 Working With Salesforce Data - An Overview)\n",
            "\u001b[0m\u001b[36m\u001b[2m\n",
            "[\u001b[35m\u001b[1m*\u001b[36m\u001b[2m] : \u001b[32m\u001b[2mLecture(s) : (2 of 7)\n",
            "\u001b[0m\u001b[36m\u001b[2m[\u001b[35m\u001b[1m*\u001b[36m\u001b[2m] : \u001b[32m\u001b[2mDownloading (036 Lightning Data Service - Create Record)\n",
            "\u001b[36m\u001b[2m[\u001b[35m\u001b[1m*\u001b[36m\u001b[2m] : \u001b[32m\u001b[1m120.61MB/120.61MB 100.00% |\u001b[36m\u001b[2m##############################\u001b[37m\u001b[2m\u001b[32m\u001b[1m| 18.24MB/s \n",
            "\u001b[0m\u001b[36m\u001b[2m[\u001b[35m\u001b[1m+\u001b[36m\u001b[2m] : \u001b[32m\u001b[2mDownloaded  (036 Lightning Data Service - Create Record)\n",
            "\u001b[0m\u001b[36m\u001b[2m\n",
            "[\u001b[35m\u001b[1m*\u001b[36m\u001b[2m] : \u001b[32m\u001b[2mDownloading asset(s)\n",
            "\u001b[0m\u001b[36m\u001b[2m[\u001b[35m\u001b[1m*\u001b[36m\u001b[2m] : \u001b[32m\u001b[2mDownloading (036 code.zip)\n",
            "\u001b[36m\u001b[2m[\u001b[35m\u001b[1m*\u001b[36m\u001b[2m] : \u001b[32m\u001b[1m1.60KB/1.60KB 100.00% |\u001b[36m\u001b[2m##############################\u001b[37m\u001b[2m\u001b[32m\u001b[1m| 8.74kB/s \n",
            "\u001b[0m\u001b[36m\u001b[2m[\u001b[35m\u001b[1m+\u001b[36m\u001b[2m] : \u001b[32m\u001b[2mDownloaded  (036 code.zip)\n",
            "\u001b[0m\u001b[36m\u001b[2m\n",
            "[\u001b[35m\u001b[1m*\u001b[36m\u001b[2m] : \u001b[32m\u001b[2mLecture(s) : (3 of 7)\n",
            "\u001b[0m\u001b[36m\u001b[2m[\u001b[35m\u001b[1m*\u001b[36m\u001b[2m] : \u001b[32m\u001b[2mDownloading (037 Lightning Data Service - View Record)\n",
            "\u001b[36m\u001b[2m[\u001b[35m\u001b[1m*\u001b[36m\u001b[2m] : \u001b[32m\u001b[1m120.11MB/11.62MB 9.67% |\u001b[36m\u001b[2m###\u001b[37m\u001b[2m---------------------------\u001b[32m\u001b[1m| 14.76MB/s eta 00:07s\u001b[0m"
          ],
          "name": "stdout"
        }
      ]
    }
  ]
}