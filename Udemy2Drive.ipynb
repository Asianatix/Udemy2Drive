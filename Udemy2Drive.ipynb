{
  "nbformat": 4,
  "nbformat_minor": 0,
  "metadata": {
    "colab": {
      "name": "Udemy2Drive.ipynb",
      "provenance": [],
      "collapsed_sections": [],
      "toc_visible": true
    },
    "kernelspec": {
      "name": "python3",
      "display_name": "Python 3"
    }
  },
  "cells": [
    {
      "cell_type": "code",
      "metadata": {
        "id": "s_Ye2NZCXORs",
        "colab_type": "code",
        "colab": {}
      },
      "source": [
        "from google.colab import drive\n",
        "drive.mount('/content/drive')"
      ],
      "execution_count": 0,
      "outputs": []
    },
    {
      "cell_type": "code",
      "metadata": {
        "id": "6RGIxufZZCQA",
        "colab_type": "code",
        "colab": {}
      },
      "source": [
        "!git clone \"https://github.com/r0oth3x49/udemy-dl.git\" \"/content/udemy_dl\""
      ],
      "execution_count": 0,
      "outputs": []
    },
    {
      "cell_type": "code",
      "metadata": {
        "id": "jg7_4yVAXaSk",
        "colab_type": "code",
        "colab": {}
      },
      "source": [
        "!pip install -r \"/content/udemy_dl/requirements.txt\""
      ],
      "execution_count": 0,
      "outputs": []
    },
    {
      "cell_type": "markdown",
      "metadata": {
        "id": "Kgy_3paFav15",
        "colab_type": "text"
      },
      "source": [
        "#Course URL"
      ]
    },
    {
      "cell_type": "code",
      "metadata": {
        "id": "jHDkulfbZxsq",
        "colab_type": "code",
        "colab": {}
      },
      "source": [
        "course_url = str(input(\"Enter the course url: \"))"
      ],
      "execution_count": 0,
      "outputs": []
    },
    {
      "cell_type": "markdown",
      "metadata": {
        "id": "MZLcl7Vnazao",
        "colab_type": "text"
      },
      "source": [
        "#Output Path"
      ]
    },
    {
      "cell_type": "code",
      "metadata": {
        "id": "zytgvtwxa1tV",
        "colab_type": "code",
        "colab": {}
      },
      "source": [
        "out_path = str(input(\"output Path: \"))"
      ],
      "execution_count": 0,
      "outputs": []
    },
    {
      "cell_type": "markdown",
      "metadata": {
        "id": "ygNH4alHeEFB",
        "colab_type": "text"
      },
      "source": [
        "#Enter Acess Token"
      ]
    },
    {
      "cell_type": "code",
      "metadata": {
        "id": "bjLk0ly6doaU",
        "colab_type": "code",
        "colab": {}
      },
      "source": [
        "token = str(input(\"Token: \"))\n",
        "file_con = \"access_token=\" + token\n",
        "with open(\"/content/udemy_dl/udemy/token.txt\", \"w\") as f:\n",
        "  f.write(file_con)"
      ],
      "execution_count": 0,
      "outputs": []
    },
    {
      "cell_type": "markdown",
      "metadata": {
        "id": "hWLPDcJAaYD8",
        "colab_type": "text"
      },
      "source": [
        "#Download"
      ]
    },
    {
      "cell_type": "code",
      "metadata": {
        "id": "xJHSDPYAXwYr",
        "colab_type": "code",
        "colab": {}
      },
      "source": [
        "!python \"/content/udemy_dl/udemy-dl.py\" \"{course_url}\" -k \"token.txt\" -o \"{out_path}\""
      ],
      "execution_count": 0,
      "outputs": []
    }
  ]
}